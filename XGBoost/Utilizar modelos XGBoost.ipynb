{
 "cells": [
  {
   "cell_type": "code",
   "execution_count": 14,
   "id": "33ba5281",
   "metadata": {},
   "outputs": [],
   "source": [
    "import numpy as np\n",
    "import pandas as pd\n",
    "import seaborn as sns\n",
    "import matplotlib.pyplot as plt\n",
    "import xgboost as xgb\n",
    "from xgboost import plot_importance, plot_tree,DMatrix\n",
    "from sklearn.metrics import mean_squared_error, mean_absolute_error\n",
    "plt.style.use('fivethirtyeight')\n",
    "\n",
    "import yfinance as yf\n",
    "import plotly.express as px\n",
    "import plotly.graph_objects as go\n",
    "import pandas as pd\n",
    "import ta as ta\n",
    "from ta import add_all_ta_features\n",
    "from ta.utils import dropna\n",
    "from datetime import datetime\n",
    "\n",
    "from tsmoothie.utils_func import sim_randomwalk\n",
    "from tsmoothie.smoother import *\n",
    "\n",
    "from sklearn.preprocessing import MinMaxScaler\n",
    "\n",
    "import pickle\n",
    "\n",
    "def GetTsi(base,gaussian_knots,gaussian_sigma,ewm_span=20):\n",
    "    \n",
    "    tsi_config=[25,13]\n",
    "\n",
    "    resultados_tsi = ta.momentum.TSIIndicator(base[\"Close\"],tsi_config[0],tsi_config[1],False)\n",
    "\n",
    "    tsi_df = pd.DataFrame(resultados_tsi.tsi())\n",
    "    \n",
    "    tsi_df.dropna(inplace=True)\n",
    "    \n",
    "    #Suavizando TSI com médias móveis exponenciais\n",
    "    tsi_df[\"ewm\"] = tsi_df['tsi'].ewm(span = ewm_span).mean()*1.2\n",
    "    #------------------------------------------\n",
    "    \n",
    "    #Suavizanto TSI com gaussian smoother\n",
    "    tsi_np = tsi_df[\"tsi\"].to_numpy()\n",
    "    tsi_np.reshape(1,len(tsi_np))\n",
    "\n",
    "    smoother = GaussianSmoother(n_knots=gaussian_knots, sigma=gaussian_sigma)\n",
    "    smoother.smooth(tsi_np)\n",
    "\n",
    "    tsi_df[\"gaussian\"] = smoother.smooth_data[0]\n",
    "    #------------------------------------------\n",
    "    \n",
    "    return tsi_df\n",
    "\n",
    "def Normalizar(Oscilador,coluna):\n",
    "    \n",
    "    normalizador = MinMaxScaler(feature_range=(0,1))\n",
    "    \n",
    "    if coluna == \"tsi\":\n",
    "        Oscilador_treinamento = Oscilador.iloc[:,0:1].values\n",
    "        \n",
    "    if coluna == \"ewm\":\n",
    "        Oscilador_treinamento = Oscilador.iloc[:,1:2].values\n",
    "        \n",
    "    if coluna == \"gaussian\":\n",
    "        Oscilador_treinamento = Oscilador.iloc[:,2:3].values\n",
    "        \n",
    "    Oscilador_normalizado = normalizador.fit_transform(Oscilador_treinamento)\n",
    "    \n",
    "    return Oscilador_normalizado\n",
    "\n",
    "\n",
    "def Realizar_previsoes_XGBoost(qtd_previsoes,base,anteriores,modelo,knots=60,sigma=0.0003):\n",
    "\n",
    "\n",
    "    ultimos_valores = base.tail(anteriores+37)\n",
    "\n",
    "    tsi_atual = GetTsi(ultimos_valores,knots,sigma)\n",
    "\n",
    "    normalizado = Normalizar(tsi_atual,\"gaussian\")\n",
    "\n",
    "    x_reshape =normalizado.reshape(1,-1)\n",
    "\n",
    "    lista_previsoes = list()\n",
    "\n",
    "    i = 0\n",
    "\n",
    "    while i < qtd_previsoes:\n",
    "        \n",
    "        previsao = modelo.predict(x_reshape)\n",
    "\n",
    "        lista_previsoes.append(previsao)\n",
    "\n",
    "        x_reshape =  np.append(x_reshape,previsao)\n",
    "\n",
    "        x_reshape = np.delete(x_reshape,0)\n",
    "\n",
    "        x_reshape =x_reshape.reshape(1,-1)\n",
    "\n",
    "        i+=1\n",
    "        \n",
    "    return lista_previsoes\n",
    "\n",
    "\n",
    "def Carregar_modelo_XGBoost(filepath):\n",
    "    \n",
    "    pickled_model = pickle.load(open(filepath, 'rb'))\n",
    "    \n",
    "    return pickled_model"
   ]
  },
  {
   "cell_type": "code",
   "execution_count": null,
   "id": "bfafa21a",
   "metadata": {},
   "outputs": [],
   "source": []
  },
  {
   "cell_type": "code",
   "execution_count": 43,
   "id": "91430f5c",
   "metadata": {},
   "outputs": [
    {
     "name": "stdout",
     "output_type": "stream",
     "text": [
      "[*********************100%***********************]  1 of 1 completed\n"
     ]
    },
    {
     "data": {
      "text/plain": [
       "<AxesSubplot: >"
      ]
     },
     "execution_count": 43,
     "metadata": {},
     "output_type": "execute_result"
    },
    {
     "data": {
      "image/png": "[encoded data removed]",
      "text/plain": [
       "<Figure size 432x288 with 1 Axes>"
      ]
     },
     "metadata": {
      "needs_background": "light"
     },
     "output_type": "display_data"
    }
   ],
   "source": [
    "modelo = Carregar_modelo_XGBoost(\"Modelo_XGBoost_teste3.pkl\")\n",
    "\n",
    "ticker =\"PETR3.SA\"\n",
    "\n",
    "df = yf.download(ticker)\n",
    "\n",
    "base = df[:\"2022-05-05\"]\n",
    "\n",
    "anteriores = 70\n",
    "qtd_previsoes = 15\n",
    "knots = 60\n",
    "sigma = 0.0003\n",
    "\n",
    "previsoes = Realizar_previsoes_XGBoost(qtd_previsoes,base,anteriores,modelo,knots=60,sigma=0.0003)\n",
    "\n",
    "pd.DataFrame(previsoes).plot()"
   ]
  },
  {
   "cell_type": "code",
   "execution_count": null,
   "id": "3867944f",
   "metadata": {},
   "outputs": [],
   "source": []
  },
  {
   "cell_type": "code",
   "execution_count": null,
   "id": "e4fddefa",
   "metadata": {},
   "outputs": [],
   "source": []
  },
  {
   "cell_type": "code",
   "execution_count": null,
   "id": "e1c9de30",
   "metadata": {},
   "outputs": [],
   "source": []
  },
  {
   "cell_type": "code",
   "execution_count": null,
   "id": "b12017d1",
   "metadata": {},
   "outputs": [],
   "source": []
  },
  {
   "cell_type": "code",
   "execution_count": null,
   "id": "d0a2b95e",
   "metadata": {},
   "outputs": [],
   "source": []
  },
  {
   "cell_type": "code",
   "execution_count": null,
   "id": "c489d2bc",
   "metadata": {},
   "outputs": [],
   "source": []
  },
  {
   "cell_type": "code",
   "execution_count": null,
   "id": "5dfb2da9",
   "metadata": {},
   "outputs": [],
   "source": []
  },
  {
   "cell_type": "code",
   "execution_count": null,
   "id": "3ca405a0",
   "metadata": {},
   "outputs": [],
   "source": []
  },
  {
   "cell_type": "code",
   "execution_count": null,
   "id": "5b501637",
   "metadata": {},
   "outputs": [],
   "source": []
  },
  {
   "cell_type": "code",
   "execution_count": null,
   "id": "5c199ae9",
   "metadata": {},
   "outputs": [],
   "source": []
  },
  {
   "cell_type": "code",
   "execution_count": null,
   "id": "46e4b3e0",
   "metadata": {},
   "outputs": [],
   "source": []
  },
  {
   "cell_type": "code",
   "execution_count": null,
   "id": "c50586c0",
   "metadata": {},
   "outputs": [],
   "source": []
  },
  {
   "cell_type": "code",
   "execution_count": null,
   "id": "c7e4b93f",
   "metadata": {},
   "outputs": [],
   "source": []
  },
  {
   "cell_type": "code",
   "execution_count": null,
   "id": "374b1347",
   "metadata": {},
   "outputs": [],
   "source": []
  },
  {
   "cell_type": "code",
   "execution_count": null,
   "id": "753b9476",
   "metadata": {},
   "outputs": [],
   "source": []
  },
  {
   "cell_type": "code",
   "execution_count": null,
   "id": "e5f60e75",
   "metadata": {},
   "outputs": [],
   "source": []
  },
  {
   "cell_type": "code",
   "execution_count": null,
   "id": "664a6aec",
   "metadata": {},
   "outputs": [],
   "source": []
  },
  {
   "cell_type": "code",
   "execution_count": null,
   "id": "d71ab12f",
   "metadata": {},
   "outputs": [],
   "source": []
  },
  {
   "cell_type": "code",
   "execution_count": null,
   "id": "531260c9",
   "metadata": {},
   "outputs": [],
   "source": []
  },
  {
   "cell_type": "code",
   "execution_count": null,
   "id": "c1433c4c",
   "metadata": {},
   "outputs": [],
   "source": []
  },
  {
   "cell_type": "code",
   "execution_count": null,
   "id": "cb37d698",
   "metadata": {},
   "outputs": [],
   "source": []
  },
  {
   "cell_type": "code",
   "execution_count": null,
   "id": "89a5475c",
   "metadata": {},
   "outputs": [],
   "source": []
  },
  {
   "cell_type": "code",
   "execution_count": null,
   "id": "031de818",
   "metadata": {},
   "outputs": [],
   "source": []
  },
  {
   "cell_type": "code",
   "execution_count": null,
   "id": "f1f0dee9",
   "metadata": {},
   "outputs": [],
   "source": []
  },
  {
   "cell_type": "code",
   "execution_count": null,
   "id": "76f669c1",
   "metadata": {},
   "outputs": [],
   "source": []
  },
  {
   "cell_type": "code",
   "execution_count": null,
   "id": "4feec920",
   "metadata": {},
   "outputs": [],
   "source": []
  }
 ],
 "metadata": {
  "kernelspec": {
   "display_name": "Python 3 (ipykernel)",
   "language": "python",
   "name": "python3"
  },
  "language_info": {
   "codemirror_mode": {
    "name": "ipython",
    "version": 3
   },
   "file_extension": ".py",
   "mimetype": "text/x-python",
   "name": "python",
   "nbconvert_exporter": "python",
   "pygments_lexer": "ipython3",
   "version": "3.10.4"
  }
 },
 "nbformat": 4,
 "nbformat_minor": 5
}
