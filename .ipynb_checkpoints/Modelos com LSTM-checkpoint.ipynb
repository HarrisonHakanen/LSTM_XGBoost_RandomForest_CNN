{
 "cells": [
  {
   "cell_type": "code",
   "execution_count": 1,
   "id": "156ddfa8",
   "metadata": {},
   "outputs": [],
   "source": [
    "from keras.models import Sequential,load_model\n",
    "from keras.layers import Dense,Dropout,LSTM\n",
    "from sklearn.preprocessing import MinMaxScaler\n",
    "from sklearn.model_selection import KFold\n",
    "import numpy as np\n",
    "import pandas as pd\n",
    "import matplotlib.pyplot as plt\n",
    "import yfinance as yf\n",
    "from keras.callbacks import EarlyStopping,ReduceLROnPlateau,ModelCheckpoint\n",
    "import keras\n",
    "import plotly.express as px\n",
    "import plotly.graph_objects as go\n",
    "import scipy\n",
    "\n",
    "\n",
    "def preparar_dados_financeiros(ticker, start_date, end_date,remove_out):\n",
    "    base = yf.download(ticker)\n",
    "    base = base[start_date:end_date]\n",
    "    base.dropna(inplace=True)\n",
    "    base.reset_index(inplace=True)\n",
    "    \n",
    "    base.drop([\"Date\"],inplace=True,axis=1)\n",
    "    \n",
    "    if remove_out:\n",
    "        return remover_outliers(base)\n",
    "    else:\n",
    "        return base\n",
    "\n",
    "def remover_outliers(base):\n",
    "    \n",
    "    z_scores = scipy.stats.zscore(base)\n",
    "    abs_z_scores = np.abs(z_scores)\n",
    "    filtered_entries = (abs_z_scores < 3).all(axis=1)\n",
    "    new_base = base[filtered_entries]\n",
    "    \n",
    "    return new_base\n",
    "\n",
    "def normalize_data(dataframe):\n",
    "    scaler = StandardScaler()\n",
    "    dataframe['price'] = scaler.fit_transform(dataframe[['price']])\n",
    "    return dataframe\n",
    "\n",
    "\n",
    "def preparar_dados_para_treinamento(anteriores,base_treinamento_normalizada):\n",
    "\n",
    "    previsores = []\n",
    "    preco_real = []\n",
    "\n",
    "    for i in range(anteriores,len(base_treinamento_normalizada)):\n",
    "\n",
    "        previsores.append(base_treinamento_normalizada[i-anteriores:i,0])\n",
    "        preco_real.append(base_treinamento_normalizada[i,0])\n",
    "\n",
    "    previsores,preco_real = np.array(previsores),np.array(preco_real)\n",
    "    previsores = np.reshape(previsores,(previsores.shape[0],previsores.shape[1],1))\n",
    "\n",
    "    return previsores,preco_real\n",
    "\n",
    "def criarRedeNeural(previsores,preco_real,filepath,epocas=300,validacao_cruzada=0,ativacao=\"linear\",otimizador=\"adam\",minimo_delta=1e-10,paciencia_es=10,batch=20):\n",
    "    \n",
    "    regressor = Sequential()\n",
    "    regressor.add(LSTM(units=100,return_sequences=True,input_shape=(previsores.shape[1],1)))\n",
    "    regressor.add(Dropout(0.3))\n",
    "\n",
    "    regressor.add(LSTM(units=100,return_sequences=True))\n",
    "    regressor.add(Dropout(0.3))\n",
    "\n",
    "    regressor.add(LSTM(units=100,return_sequences=True))\n",
    "    regressor.add(Dropout(0.3))\n",
    "\n",
    "    regressor.add(LSTM(units=100,return_sequences=True))\n",
    "    regressor.add(Dropout(0.3))\n",
    "    \n",
    "    regressor.add(LSTM(units=100,return_sequences=True))\n",
    "    regressor.add(Dropout(0.3))\n",
    "\n",
    "    regressor.add(LSTM(units=100,return_sequences=True))\n",
    "    regressor.add(Dropout(0.3))\n",
    "    \n",
    "    regressor.add(LSTM(units=100))\n",
    "    regressor.add(Dropout(0.3))\n",
    "\n",
    "    regressor.add(Dense(units=1,activation=ativacao))\n",
    "\n",
    "    regressor.compile(optimizer=otimizador,loss='mean_absolute_error',metrics=['mean_absolute_error'])\n",
    "\n",
    "    es = EarlyStopping(monitor=\"loss\",min_delta=minimo_delta,patience = paciencia_es,verbose=1)    \n",
    "    rlr = ReduceLROnPlateau(monitor=\"loss\",factor=0.06,patience=5,verbose=1)\n",
    "    mcp = ModelCheckpoint(filepath=filepath,monitor=\"loss\",save_best_only=True,verbose=1)\n",
    "    \n",
    "    \n",
    "    if validacao_cruzada == 1:\n",
    "        \n",
    "        kf = KFold(n_splits=5, shuffle=True)\n",
    "\n",
    "        for train_index, test_index in kf.split(previsores):\n",
    "            X_train, X_test = previsores[train_index], previsores[test_index]\n",
    "            y_train, y_test = preco_real[train_index], preco_real[test_index]\n",
    "\n",
    "            regressor.fit(X_train, y_train, epochs=epocas, batch_size=batch,callbacks=[es,mcp])\n",
    "            score = regressor.evaluate(X_test, y_test, verbose=0)\n",
    "            print('Test loss:', score[0])\n",
    "            print('Test accuracy:', score[1])\n",
    "            \n",
    "    else:\n",
    "\n",
    "        regressor.fit(previsores,preco_real,epochs=epocas,batch_size=batch,callbacks=[es,mcp])\n",
    "    \n",
    "    return regressor\n",
    "\n",
    "\n",
    "def carregarModelo(modelo):\n",
    "    \n",
    "    return keras.models.load_model(modelo)"
   ]
  },
  {
   "cell_type": "code",
   "execution_count": 1,
   "id": "6eac928f",
   "metadata": {},
   "outputs": [
    {
     "ename": "NameError",
     "evalue": "name 'preparar_dados_financeiros' is not defined",
     "output_type": "error",
     "traceback": [
      "\u001b[1;31m---------------------------------------------------------------------------\u001b[0m",
      "\u001b[1;31mNameError\u001b[0m                                 Traceback (most recent call last)",
      "Input \u001b[1;32mIn [1]\u001b[0m, in \u001b[0;36m<cell line: 5>\u001b[1;34m()\u001b[0m\n\u001b[0;32m      2\u001b[0m anteriores \u001b[38;5;241m=\u001b[39m \u001b[38;5;241m90\u001b[39m\n\u001b[0;32m      4\u001b[0m \u001b[38;5;66;03m#Pega os dados financeiros do Yahoo finanças\u001b[39;00m\n\u001b[1;32m----> 5\u001b[0m base \u001b[38;5;241m=\u001b[39m \u001b[43mpreparar_dados_financeiros\u001b[49m(ticker,\u001b[38;5;124m\"\u001b[39m\u001b[38;5;124m2019\u001b[39m\u001b[38;5;124m\"\u001b[39m,\u001b[38;5;124m\"\u001b[39m\u001b[38;5;124m2023\u001b[39m\u001b[38;5;124m\"\u001b[39m,\u001b[38;5;28;01mTrue\u001b[39;00m)\n\u001b[0;32m      7\u001b[0m \u001b[38;5;66;03m#Seleciona a coluna Open\u001b[39;00m\n\u001b[0;32m      8\u001b[0m base_treinamento \u001b[38;5;241m=\u001b[39m base\u001b[38;5;241m.\u001b[39miloc[:,\u001b[38;5;241m0\u001b[39m:\u001b[38;5;241m1\u001b[39m]\u001b[38;5;241m.\u001b[39mvalues\n",
      "\u001b[1;31mNameError\u001b[0m: name 'preparar_dados_financeiros' is not defined"
     ]
    }
   ],
   "source": [
    "ticker =\"PETR3.SA\"\n",
    "anteriores = 90\n",
    "\n",
    "#Pega os dados financeiros do Yahoo finanças\n",
    "base = preparar_dados_financeiros(ticker,\"2019\",\"2023\",True)\n",
    "\n",
    "#Seleciona a coluna Open\n",
    "base_treinamento = base.iloc[:,0:1].values\n",
    "\n",
    "#Instancia o normalizador de 0 a 1\n",
    "normalizador = MinMaxScaler(feature_range=(0,1))\n",
    "\n",
    "#Normaliza os dados de 0 a 1\n",
    "base_treinamento_normalizada = normalizador.fit_transform(base_treinamento)\n",
    "\n",
    "#Faz a separação dos dados de treinamento de n em n pacotes conforme todo o algoritmo de treinamento para séries temporais\n",
    "previsores,preco_real = preparar_dados_para_treinamento(anteriores,base_treinamento_normalizada)\n",
    "\n",
    "#Cria a rede neural e a treina\n",
    "regressor = criarRedeNeural(previsores,preco_real,\"Modelos_PETR3\\RedePETR3_10.h5\")"
   ]
  },
  {
   "cell_type": "code",
   "execution_count": null,
   "id": "3af3fb6e",
   "metadata": {},
   "outputs": [],
   "source": []
  },
  {
   "cell_type": "code",
   "execution_count": null,
   "id": "9c9f2233",
   "metadata": {},
   "outputs": [],
   "source": []
  },
  {
   "cell_type": "code",
   "execution_count": null,
   "id": "09bb306e",
   "metadata": {},
   "outputs": [],
   "source": []
  },
  {
   "cell_type": "code",
   "execution_count": null,
   "id": "cf2c4183",
   "metadata": {
    "scrolled": true
   },
   "outputs": [],
   "source": []
  },
  {
   "cell_type": "code",
   "execution_count": 94,
   "id": "c4d9bbc1",
   "metadata": {},
   "outputs": [
    {
     "name": "stdout",
     "output_type": "stream",
     "text": [
      "[*********************100%***********************]  1 of 1 completed\n",
      "1/1 [==============================] - 0s 53ms/step\n"
     ]
    }
   ],
   "source": [
    "base_teste = yf.download(ticker)\n",
    "base_teste=base_teste[\"2023\":\"2023-01-02\"]\n",
    "\n",
    "preco_real_teste = base_teste.iloc[:,0:1].values\n",
    "base_completa = pd.concat((base[\"Open\"],base_teste[\"Open\"]),axis=0)\n",
    "\n",
    "entradas = base_completa[len(base_completa)-len(base_teste)-anteriores:].values\n",
    "entradas = entradas.reshape(-1,1)\n",
    "entradas = normalizador.transform(entradas)\n",
    "\n",
    "X_teste = []\n",
    "\n",
    "\n",
    "for i in range(anteriores,anteriores+len(base_teste)):\n",
    "    \n",
    "    X_teste.append(entradas[i-anteriores:i,0])\n",
    "    \n",
    "    \n",
    "X_teste = np.array(X_teste)\n",
    "X_teste = np.reshape(X_teste,(X_teste.shape[0],X_teste.shape[1],1))\n",
    "\n",
    "\n",
    "previsoes = regressor.predict(X_teste)\n",
    "previsoes = normalizador.inverse_transform(previsoes)\n"
   ]
  },
  {
   "cell_type": "code",
   "execution_count": null,
   "id": "d1df826b",
   "metadata": {},
   "outputs": [],
   "source": []
  },
  {
   "cell_type": "code",
   "execution_count": 34,
   "id": "ac11f760",
   "metadata": {},
   "outputs": [
    {
     "data": {
      "text/plain": [
       "<matplotlib.legend.Legend at 0x37f9a250>"
      ]
     },
     "execution_count": 34,
     "metadata": {},
     "output_type": "execute_result"
    },
    {
     "data": {
      "image/png": "[encoded data removed]",
      "text/plain": [
       "<Figure size 640x480 with 1 Axes>"
      ]
     },
     "metadata": {},
     "output_type": "display_data"
    }
   ],
   "source": [
    "#Teste com o RedePETR4.h5\n",
    "\n",
    "plt.plot(preco_real_teste, '*', markersize = 10, label = 'Valor real')\n",
    "plt.plot(previsoes, 'o', label = 'Previsões')\n",
    "plt.legend()"
   ]
  },
  {
   "cell_type": "code",
   "execution_count": 40,
   "id": "a456c8d8",
   "metadata": {},
   "outputs": [
    {
     "data": {
      "text/plain": [
       "<matplotlib.legend.Legend at 0x237c6d30>"
      ]
     },
     "execution_count": 40,
     "metadata": {},
     "output_type": "execute_result"
    },
    {
     "data": {
      "image/png": "[encoded data removed]",
      "text/plain": [
       "<Figure size 640x480 with 1 Axes>"
      ]
     },
     "metadata": {},
     "output_type": "display_data"
    }
   ],
   "source": [
    "#Teste com o RedePETR4_2.h5\n",
    "\n",
    "plt.plot(preco_real_teste, '*', markersize = 10, label = 'Valor real')\n",
    "plt.plot(previsoes, 'o', label = 'Previsões')\n",
    "plt.legend()"
   ]
  },
  {
   "cell_type": "code",
   "execution_count": 44,
   "id": "1b782c10",
   "metadata": {},
   "outputs": [
    {
     "data": {
      "text/plain": [
       "<matplotlib.legend.Legend at 0x375caf40>"
      ]
     },
     "execution_count": 44,
     "metadata": {},
     "output_type": "execute_result"
    },
    {
     "data": {
      "image/png": "[encoded data removed]",
      "text/plain": [
       "<Figure size 640x480 with 1 Axes>"
      ]
     },
     "metadata": {},
     "output_type": "display_data"
    }
   ],
   "source": [
    "#Teste com o RedePETR4_3.h5\n",
    "\n",
    "plt.plot(preco_real_teste, '*', markersize = 10, label = 'Valor real')\n",
    "plt.plot(previsoes, 'o', label = 'Previsões')\n",
    "plt.legend()"
   ]
  },
  {
   "cell_type": "code",
   "execution_count": 47,
   "id": "f1ab217e",
   "metadata": {},
   "outputs": [
    {
     "data": {
      "text/plain": [
       "<matplotlib.legend.Legend at 0x5b2ab9a0>"
      ]
     },
     "execution_count": 47,
     "metadata": {},
     "output_type": "execute_result"
    },
    {
     "data": {
      "image/png": "[encoded data removed]",
      "text/plain": [
       "<Figure size 640x480 with 1 Axes>"
      ]
     },
     "metadata": {},
     "output_type": "display_data"
    }
   ],
   "source": [
    "#Teste com o RedePETR4_4.h5\n",
    "\n",
    "plt.plot(preco_real_teste, '*', markersize = 10, label = 'Valor real')\n",
    "plt.plot(previsoes, 'o', label = 'Previsões')\n",
    "plt.legend()"
   ]
  },
  {
   "cell_type": "code",
   "execution_count": 10,
   "id": "55143084",
   "metadata": {},
   "outputs": [
    {
     "data": {
      "text/plain": [
       "<matplotlib.legend.Legend at 0x20adcc40>"
      ]
     },
     "execution_count": 10,
     "metadata": {},
     "output_type": "execute_result"
    },
    {
     "data": {
      "image/png": "[encoded data removed]",
      "text/plain": [
       "<Figure size 640x480 with 1 Axes>"
      ]
     },
     "metadata": {},
     "output_type": "display_data"
    }
   ],
   "source": [
    "#Teste com o RedePETR4_4.h5\n",
    "\n",
    "plt.plot(preco_real_teste, '*', markersize = 10, label = 'Valor real')\n",
    "plt.plot(previsoes, 'o', label = 'Previsões')\n",
    "plt.legend()"
   ]
  },
  {
   "cell_type": "code",
   "execution_count": 31,
   "id": "87c3cb8b",
   "metadata": {},
   "outputs": [
    {
     "data": {
      "text/plain": [
       "<matplotlib.legend.Legend at 0x254b78971f0>"
      ]
     },
     "execution_count": 31,
     "metadata": {},
     "output_type": "execute_result"
    },
    {
     "data": {
      "image/png": "[encoded data removed]",
      "text/plain": [
       "<Figure size 432x288 with 1 Axes>"
      ]
     },
     "metadata": {
      "needs_background": "light"
     },
     "output_type": "display_data"
    }
   ],
   "source": [
    "#Teste com o RedePETR4_5.h5\n",
    "\n",
    "plt.plot(preco_real_teste, '*', markersize = 10, label = 'Valor real')\n",
    "plt.plot(previsoes, 'o', label = 'Previsões')\n",
    "plt.legend()"
   ]
  },
  {
   "cell_type": "code",
   "execution_count": 6,
   "id": "4bd79682",
   "metadata": {},
   "outputs": [
    {
     "data": {
      "text/plain": [
       "<matplotlib.legend.Legend at 0x15b1b0d9c30>"
      ]
     },
     "execution_count": 6,
     "metadata": {},
     "output_type": "execute_result"
    },
    {
     "data": {
      "image/png": "[encoded data removed]",
      "text/plain": [
       "<Figure size 432x288 with 1 Axes>"
      ]
     },
     "metadata": {
      "needs_background": "light"
     },
     "output_type": "display_data"
    }
   ],
   "source": [
    "#Teste com o RedePETR4_6.h5\n",
    "\n",
    "plt.plot(preco_real_teste, '*', markersize = 10, label = 'Valor real')\n",
    "plt.plot(previsoes, 'o', label = 'Previsões')\n",
    "plt.legend()"
   ]
  },
  {
   "cell_type": "code",
   "execution_count": null,
   "id": "742a582b",
   "metadata": {},
   "outputs": [],
   "source": []
  },
  {
   "cell_type": "code",
   "execution_count": null,
   "id": "3c5d933a",
   "metadata": {},
   "outputs": [],
   "source": []
  },
  {
   "cell_type": "code",
   "execution_count": null,
   "id": "88facd3c",
   "metadata": {},
   "outputs": [],
   "source": []
  },
  {
   "cell_type": "code",
   "execution_count": null,
   "id": "5931272d",
   "metadata": {},
   "outputs": [],
   "source": [
    "fig = go.Figure()\n",
    "\n",
    "fig.add_trace(\n",
    "    go.Scatter(\n",
    "        name=\"Abertura\",\n",
    "        x=base[\"Date\"],\n",
    "        y=base[\"Open\"],\n",
    "        line=dict(color='blue', width=1))\n",
    ")"
   ]
  },
  {
   "cell_type": "code",
   "execution_count": 15,
   "id": "e054d45b",
   "metadata": {},
   "outputs": [
    {
     "data": {
      "text/plain": [
       "array([[26.85000038],\n",
       "       [26.36000061],\n",
       "       [25.73999977],\n",
       "       [26.56999969],\n",
       "       [27.14999962],\n",
       "       [26.84000015],\n",
       "       [27.06999969],\n",
       "       [27.25      ],\n",
       "       [27.69000053],\n",
       "       [27.54999924],\n",
       "       [27.46999931]])"
      ]
     },
     "execution_count": 15,
     "metadata": {},
     "output_type": "execute_result"
    }
   ],
   "source": [
    "preco_real_teste"
   ]
  },
  {
   "cell_type": "code",
   "execution_count": 16,
   "id": "b0d3eccf",
   "metadata": {},
   "outputs": [
    {
     "data": {
      "text/plain": [
       "array([[29.826685],\n",
       "       [28.096565],\n",
       "       [27.621838],\n",
       "       [26.82148 ],\n",
       "       [27.53293 ],\n",
       "       [27.970894],\n",
       "       [27.647333],\n",
       "       [27.88651 ],\n",
       "       [28.049915],\n",
       "       [28.51907 ],\n",
       "       [28.430296]], dtype=float32)"
      ]
     },
     "execution_count": 16,
     "metadata": {},
     "output_type": "execute_result"
    }
   ],
   "source": [
    "previsoes"
   ]
  },
  {
   "cell_type": "code",
   "execution_count": null,
   "id": "14bceb5c",
   "metadata": {},
   "outputs": [],
   "source": []
  },
  {
   "cell_type": "code",
   "execution_count": null,
   "id": "44738661",
   "metadata": {},
   "outputs": [],
   "source": []
  },
  {
   "cell_type": "code",
   "execution_count": null,
   "id": "eddaeed9",
   "metadata": {},
   "outputs": [],
   "source": []
  },
  {
   "cell_type": "code",
   "execution_count": null,
   "id": "59b89582",
   "metadata": {},
   "outputs": [],
   "source": []
  },
  {
   "cell_type": "code",
   "execution_count": null,
   "id": "e5d5816a",
   "metadata": {},
   "outputs": [],
   "source": []
  },
  {
   "cell_type": "code",
   "execution_count": null,
   "id": "136c3d82",
   "metadata": {},
   "outputs": [],
   "source": [
    "RedePETR4:\n",
    "    \n",
    "Dados: 2010 - 2022\n",
    "    \n",
    "Dias anteriores: 180\n",
    "    \n",
    "4 camadas: \n",
    "    \n",
    "1º camada: 100 neurônios - Dropout: 0.3\n",
    "2º camada: 50 neurônios - Dropout: 0.3\n",
    "3º camada: 50 neurônios - Dropout: 0.3\n",
    "4º camada: 50 neurônios - Dropout: 0.3\n",
    "\n",
    "Função de ativação: linear\n",
    "Otimizador: rmsprop\n",
    "Epocas: 100\n",
    "Batch size: 32\n",
    "\n",
    "EarlyStopping:\n",
    "Paciência 10\n",
    "Mínimo delta 1e-5\n",
    "\n",
    "ReduceLROnPlateau:\n",
    "Paciência 5\n",
    "Fator 0.2"
   ]
  },
  {
   "cell_type": "code",
   "execution_count": null,
   "id": "2ee8c117",
   "metadata": {},
   "outputs": [],
   "source": [
    "RedePETR4_2:\n",
    "    \n",
    "Dados: 2010 - 2022\n",
    "    \n",
    "Dias anteriores: 180\n",
    "    \n",
    "4 camadas: \n",
    "    \n",
    "1º camada: 100 neurônios - Dropout: 0.3\n",
    "2º camada: 100 neurônios - Dropout: 0.3\n",
    "3º camada: 100 neurônios - Dropout: 0.3\n",
    "4º camada: 100 neurônios - Dropout: 0.3\n",
    "\n",
    "Função de ativação: sigmoid\n",
    "Otimizador: rmsprop\n",
    "Epocas: 100\n",
    "Batch size: 32\n",
    "\n",
    "EarlyStopping:\n",
    "Paciência 10\n",
    "Mínimo delta 1e-10\n",
    "\n",
    "ReduceLROnPlateau DESATIVADO:\n",
    "Paciência\n",
    "Fator "
   ]
  },
  {
   "cell_type": "code",
   "execution_count": null,
   "id": "ce91c236",
   "metadata": {},
   "outputs": [],
   "source": [
    "RedePETR4_3:\n",
    "    \n",
    "Dados: 2010 - 2022\n",
    "    \n",
    "Dias anteriores: 90\n",
    "    \n",
    "4 camadas: \n",
    "    \n",
    "1º camada: 100 neurônios - Dropout: 0.1\n",
    "2º camada: 50 neurônios - Dropout: 0.1\n",
    "3º camada: 50 neurônios - Dropout: 0.1\n",
    "4º camada: 50 neurônios - Dropout: 0.3\n",
    "\n",
    "Função de ativação: relu\n",
    "Otimizador: rmsprop\n",
    "Epocas: 100\n",
    "Batch size: 15\n",
    "\n",
    "EarlyStopping:\n",
    "Paciência 10\n",
    "Mínimo delta 1e-5\n",
    "\n",
    "ReduceLROnPlateau:\n",
    "Paciência 5\n",
    "Fator 0.06"
   ]
  },
  {
   "cell_type": "code",
   "execution_count": null,
   "id": "f8f52ae4",
   "metadata": {},
   "outputs": [],
   "source": [
    "RedePETR4_4:\n",
    "    \n",
    "Dados: 2010 - 2022\n",
    "    \n",
    "Dias anteriores: 180\n",
    "    \n",
    "5 camadas: \n",
    "    \n",
    "1º camada: 100 neurônios - Dropout: 0.2\n",
    "2º camada: 100 neurônios - Dropout: 0.2\n",
    "3º camada: 100 neurônios - Dropout: 0.2\n",
    "4º camada: 100 neurônios - Dropout: 0.2\n",
    "5º camada: 100 neurônios - Dropout: 0.2        \n",
    "\n",
    "Função de ativação: relu\n",
    "Otimizador: rmsprop\n",
    "Epocas: 100\n",
    "Batch size: 32\n",
    "\n",
    "EarlyStopping:\n",
    "Paciência 10\n",
    "Mínimo delta 1e-10\n",
    "\n",
    "ReduceLROnPlateau:\n",
    "Paciência 5\n",
    "Fator 0.06"
   ]
  },
  {
   "cell_type": "code",
   "execution_count": null,
   "id": "9929c99f",
   "metadata": {},
   "outputs": [],
   "source": [
    "RedePETR4_5:\n",
    "    \n",
    "Dados: 2018 - 2021-04\n",
    "    \n",
    "Dias anteriores: 50\n",
    "    \n",
    "5 camadas: \n",
    "    \n",
    "1º camada: 100 neurônios - Dropout: 0.3\n",
    "2º camada: 100 neurônios - Dropout: 0.3\n",
    "3º camada: 100 neurônios - Dropout: 0.3\n",
    "4º camada: 100 neurônios - Dropout: 0.3\n",
    "5º camada: 100 neurônios - Dropout: 0.3        \n",
    "\n",
    "Função de ativação: sigmoid\n",
    "Otimizador: rmsprop\n",
    "Epocas: 300\n",
    "Batch size: 20\n",
    "\n",
    "EarlyStopping:\n",
    "Paciência 10\n",
    "Mínimo delta 1e-10\n",
    "\n",
    "ReduceLROnPlateau DESATIVADO:\n",
    "Paciência \n",
    "Fator "
   ]
  },
  {
   "cell_type": "code",
   "execution_count": null,
   "id": "8c9359e9",
   "metadata": {},
   "outputs": [],
   "source": [
    "RedePETR4_6:\n",
    "    \n",
    "Dados: 2019 - 2022\n",
    "    \n",
    "Dias anteriores: 90\n",
    "    \n",
    "5 camadas: \n",
    "    \n",
    "1º camada: 100 neurônios - Dropout: 0.3\n",
    "2º camada: 100 neurônios - Dropout: 0.3\n",
    "3º camada: 100 neurônios - Dropout: 0.3\n",
    "4º camada: 100 neurônios - Dropout: 0.3\n",
    "5º camada: 100 neurônios - Dropout: 0.3        \n",
    "\n",
    "Função de ativação: sigmoid\n",
    "Otimizador: rmsprop\n",
    "Epocas: 300\n",
    "Batch size: 20\n",
    "\n",
    "EarlyStopping:\n",
    "Paciência 10\n",
    "Mínimo delta 1e-10\n",
    "\n",
    "ReduceLROnPlateau DESATIVADO:\n",
    "Paciência \n",
    "Fator "
   ]
  },
  {
   "cell_type": "code",
   "execution_count": null,
   "id": "fa74b6dc",
   "metadata": {},
   "outputs": [],
   "source": [
    "RedePETR4_7:\n",
    "    \n",
    "Dados: 2019 - 2023\n",
    "    \n",
    "Dias anteriores: 90\n",
    "    \n",
    "5 camadas: \n",
    "    \n",
    "1º camada: 100 neurônios - Dropout: 0.3\n",
    "2º camada: 100 neurônios - Dropout: 0.3\n",
    "3º camada: 100 neurônios - Dropout: 0.3\n",
    "4º camada: 100 neurônios - Dropout: 0.3\n",
    "5º camada: 100 neurônios - Dropout: 0.3        \n",
    "\n",
    "Função de ativação: sigmoid\n",
    "Otimizador: rmsprop\n",
    "Epocas: 300\n",
    "Batch size: 20\n",
    "\n",
    "EarlyStopping:\n",
    "Paciência 10\n",
    "Mínimo delta 1e-10\n",
    "\n",
    "ReduceLROnPlateau DESATIVADO:\n",
    "Paciência \n",
    "Fator "
   ]
  },
  {
   "cell_type": "code",
   "execution_count": null,
   "id": "efe6e9a4",
   "metadata": {},
   "outputs": [],
   "source": [
    "RedePETR4_8:\n",
    "    \n",
    "Dados: 2015-01-01 até 2018-12-31\n",
    "    \n",
    "Dias anteriores: 90\n",
    "    \n",
    "7 camadas: \n",
    "    \n",
    "1º camada: 100 neurônios - Dropout: 0.3\n",
    "2º camada: 100 neurônios - Dropout: 0.3\n",
    "3º camada: 100 neurônios - Dropout: 0.3\n",
    "4º camada: 100 neurônios - Dropout: 0.3\n",
    "5º camada: 100 neurônios - Dropout: 0.3        \n",
    "6º camada: 100 neurônios - Dropout: 0.3       \n",
    "7º camada: 1 neurônios - Dropout: 0.3        \n",
    "\n",
    "Função de ativação: linear\n",
    "Otimizador: adam\n",
    "Epocas: 300\n",
    "Batch size: 20\n",
    "\n",
    "EarlyStopping:\n",
    "Paciência 10\n",
    "Mínimo delta 1e-10\n",
    "\n",
    "ReduceLROnPlateau DESATIVADO:\n",
    "Paciência \n",
    "Fator "
   ]
  },
  {
   "cell_type": "code",
   "execution_count": null,
   "id": "416aaed6",
   "metadata": {},
   "outputs": [],
   "source": [
    "RedePETR4_9:\n",
    "    \n",
    "Dados: 2019 até 2023\n",
    "    \n",
    "Dias anteriores: 90\n",
    "    \n",
    "7 camadas: \n",
    "    \n",
    "1º camada: 100 neurônios - Dropout: 0.3\n",
    "2º camada: 100 neurônios - Dropout: 0.3\n",
    "3º camada: 100 neurônios - Dropout: 0.3\n",
    "4º camada: 100 neurônios - Dropout: 0.3\n",
    "5º camada: 100 neurônios - Dropout: 0.3        \n",
    "6º camada: 100 neurônios - Dropout: 0.3       \n",
    "7º camada: 1 neurônios - Dropout: 0.3        \n",
    "\n",
    "Função de ativação: linear\n",
    "Otimizador: adam\n",
    "Epocas: 300\n",
    "Batch size: 20\n",
    "\n",
    "EarlyStopping:\n",
    "Paciência 10\n",
    "Mínimo delta 1e-10\n",
    "\n",
    "ReduceLROnPlateau DESATIVADO:\n",
    "Paciência \n",
    "Fator "
   ]
  }
 ],
 "metadata": {
  "kernelspec": {
   "display_name": "Python 3 (ipykernel)",
   "language": "python",
   "name": "python3"
  },
  "language_info": {
   "codemirror_mode": {
    "name": "ipython",
    "version": 3
   },
   "file_extension": ".py",
   "mimetype": "text/x-python",
   "name": "python",
   "nbconvert_exporter": "python",
   "pygments_lexer": "ipython3",
   "version": "3.10.4"
  }
 },
 "nbformat": 4,
 "nbformat_minor": 5
}
